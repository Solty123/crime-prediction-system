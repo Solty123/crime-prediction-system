filename = 'cp.pkl'
pickle.dump(rfr, open(filename, 'wb'))